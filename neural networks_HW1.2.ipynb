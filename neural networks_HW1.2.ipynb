{
 "cells": [
  {
   "cell_type": "code",
   "execution_count": 2,
   "metadata": {},
   "outputs": [],
   "source": [
    "#Task 2: Реализовать адаптивний оптимизатор с подстраивающимся LR"
   ]
  },
  {
   "cell_type": "markdown",
   "metadata": {},
   "source": [
    "import numpy as np\n",
    "\n",
    "def f(x):\n",
    "    return (x ** 2 - 5 * x + 4) ** 2\n",
    "\n",
    "def grad_f(x):\n",
    "    return 2 * (x ** 2 - 5 * x + 4) * (2 * x - 5)\n",
    "\n",
    "def adaptive_gradient_descent(starting_point, initial_lr, num_iterations):\n",
    "    x = starting_point\n",
    "    lr = initial_lr\n",
    "    epsilon = 1e-8\n",
    "    grad_cache = 0\n",
    "\n",
    "    for i in range(num_iterations):\n",
    "        grad = grad_f(x)\n",
    "        \n",
    "        # Ключевое отличие: адаптируем lr на каждом шаге\n",
    "        grad_cache += grad ** 2\n",
    "        adapted_lr = lr / (np.sqrt(grad_cache) + epsilon)\n",
    "        \n",
    "        x = x - adapted_lr * grad\n",
    "        print(f\"Iteration {i+1}: x = {x}, f(x) = {f(x)}, LR = {adapted_lr}\")\n",
    "    \n",
    "    return x\n",
    "\n",
    "# Параметры для адаптивного градиентного спуска\n",
    "initial_lr = 0.1\n",
    "num_iterations = 100\n",
    "\n",
    "# Поиск первого корня\n",
    "starting_point_1 = 0\n",
    "optimal_x_1 = adaptive_gradient_descent(starting_point_1, initial_lr, num_iterations)\n",
    "print(f\"Optimal x_1: {optimal_x_1}\")\n",
    "\n",
    "# Поиск второго корня\n",
    "starting_point_2 = 5\n",
    "optimal_x_2 = adaptive_gradient_descent(starting_point_2, initial_lr, num_iterations)\n",
    "print(f\"Optimal x_2: {optimal_x_2}\")"
   ]
  },
  {
   "cell_type": "markdown",
   "metadata": {},
   "source": []
  }
 ],
 "metadata": {
  "kernelspec": {
   "display_name": "base",
   "language": "python",
   "name": "python3"
  },
  "language_info": {
   "codemirror_mode": {
    "name": "ipython",
    "version": 3
   },
   "file_extension": ".py",
   "mimetype": "text/x-python",
   "name": "python",
   "nbconvert_exporter": "python",
   "pygments_lexer": "ipython3",
   "version": "3.11.5"
  }
 },
 "nbformat": 4,
 "nbformat_minor": 2
}
