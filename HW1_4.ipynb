{
 "cells": [
  {
   "cell_type": "markdown",
   "id": "12db4cc5-3727-464e-93a0-bcf235c09cbe",
   "metadata": {},
   "source": [
    "Задание 4: Реализовать классификатор токсичных комментариев tfidf на базе датасета\r\n",
    "https://www.kaggle.com/datasets/blackmoon/russian-language-toxic-comments  "
   ]
  },
  {
   "cell_type": "code",
   "execution_count": 1,
   "id": "22eb13b1-f07a-4f4e-b302-8906afd76339",
   "metadata": {},
   "outputs": [
    {
     "name": "stdout",
     "output_type": "stream",
     "text": [
      "Точность (Accuracy): 0.8466874783211932\n",
      "              precision    recall  f1-score   support\n",
      "\n",
      "         0.0       0.84      0.96      0.89      1944\n",
      "         1.0       0.89      0.61      0.72       939\n",
      "\n",
      "    accuracy                           0.85      2883\n",
      "   macro avg       0.86      0.78      0.81      2883\n",
      "weighted avg       0.85      0.85      0.84      2883\n",
      "\n"
     ]
    }
   ],
   "source": [
    "import pandas as pd\n",
    "from sklearn.model_selection import train_test_split\n",
    "from sklearn.feature_extraction.text import TfidfVectorizer\n",
    "from sklearn.linear_model import LogisticRegression\n",
    "from sklearn.metrics import accuracy_score, classification_report\n",
    "\n",
    "# Путь к файлу датасета на вашем компьютере\n",
    "filepath = r'C:\\Users\\Roadmarshal\\Downloads\\labeled.csv'\n",
    "\n",
    "# Загрузка данных\n",
    "data = pd.read_csv(filepath)\n",
    "\n",
    "\n",
    "X = data['comment']  # Это строка предполагает, что фактическое имя было изменено на правильное\n",
    "y = data['toxic']\n",
    "\n",
    "# Разделение на обучающую и тестовую выборки\n",
    "X_train, X_test, y_train, y_test = train_test_split(X, y, test_size=0.2, random_state=42)\n",
    "\n",
    "# Векторизация с использованием TF-IDF\n",
    "tfidf_vectorizer = TfidfVectorizer(max_features=10000)  # ограничение на число признаков для уменьшения сложности\n",
    "X_train_tfidf = tfidf_vectorizer.fit_transform(X_train)\n",
    "X_test_tfidf = tfidf_vectorizer.transform(X_test)\n",
    "\n",
    "# Обучение классификатора\n",
    "classifier = LogisticRegression(random_state=42)\n",
    "classifier.fit(X_train_tfidf, y_train)\n",
    "\n",
    "# Предсказание и оценка\n",
    "y_pred = classifier.predict(X_test_tfidf)\n",
    "print(f\"Точность (Accuracy): {accuracy_score(y_test, y_pred)}\")\n",
    "print(classification_report(y_test, y_pred))"
   ]
  },
  {
   "cell_type": "code",
   "execution_count": null,
   "id": "604c2801-874b-4c6f-be6f-e903a9b84d95",
   "metadata": {},
   "outputs": [],
   "source": []
  }
 ],
 "metadata": {
  "kernelspec": {
   "display_name": "Python 3 (ipykernel)",
   "language": "python",
   "name": "python3"
  },
  "language_info": {
   "codemirror_mode": {
    "name": "ipython",
    "version": 3
   },
   "file_extension": ".py",
   "mimetype": "text/x-python",
   "name": "python",
   "nbconvert_exporter": "python",
   "pygments_lexer": "ipython3",
   "version": "3.11.5"
  }
 },
 "nbformat": 4,
 "nbformat_minor": 5
}
