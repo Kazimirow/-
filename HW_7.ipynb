{
 "cells": [
  {
   "cell_type": "markdown",
   "id": "ef9ef25b",
   "metadata": {},
   "source": [
    "Задание 2"
   ]
  },
  {
   "cell_type": "code",
   "execution_count": 10,
   "id": "0f758526",
   "metadata": {},
   "outputs": [],
   "source": [
    "import sqlite3\n",
    "import pandas as pd\n",
    "import numpy as np\n",
    "\n",
    "con = sqlite3.connect(':memory:')\n",
    "\n",
    "# Загрузка и сохранение данных в SQLite\n",
    "data = pd.read_csv('C:\\\\Users\\\\Roadmarshal\\\\Downloads\\\\boston.csv')\n",
    "data.head()\n",
    "data.to_sql('boston', con, index=False, if_exists='replace')\n",
    "\n",
    "tasks = 0"
   ]
  },
  {
   "cell_type": "markdown",
   "id": "16454799",
   "metadata": {},
   "source": [
    "# Задание 1: Подсчет количества пустых значений по выбранным колонкам"
   ]
  },
  {
   "cell_type": "code",
   "execution_count": 3,
   "id": "190c9d7a",
   "metadata": {},
   "outputs": [
    {
     "name": "stdout",
     "output_type": "stream",
     "text": [
      "  column_name  missing_values\n",
      "0        CRIM               0\n",
      "1          ZN               0\n",
      "2       INDUS               0\n",
      "3        CHAS               0\n",
      "4         NOX               0\n"
     ]
    }
   ],
   "source": [
    "query_1 = '''\n",
    "SELECT 'CRIM' AS column_name, COUNT(*) AS missing_values FROM boston WHERE CRIM IS NULL\n",
    "UNION ALL\n",
    "SELECT 'ZN', COUNT(*) FROM boston WHERE ZN IS NULL\n",
    "UNION ALL\n",
    "SELECT 'INDUS', COUNT(*) FROM boston WHERE INDUS IS NULL\n",
    "UNION ALL\n",
    "SELECT 'CHAS', COUNT(*) FROM boston WHERE CHAS IS NULL\n",
    "UNION ALL\n",
    "SELECT 'NOX', COUNT(*) FROM boston WHERE NOX IS NULL\n",
    "'''\n",
    "result_1 = pd.read_sql(query_1, con)\n",
    "print(result_1)\n",
    "\n",
    "tasks += 1"
   ]
  },
  {
   "cell_type": "markdown",
   "id": "eb7b1516",
   "metadata": {},
   "source": [
    "# Задание 2: Вывод количества уникальных значений по колонкам CRIM, ZN, INDUS, CHAS, NOX"
   ]
  },
  {
   "cell_type": "code",
   "execution_count": 4,
   "id": "8f54e53d",
   "metadata": {},
   "outputs": [
    {
     "name": "stdout",
     "output_type": "stream",
     "text": [
      "  column_name  unique_values\n",
      "0        CRIM            504\n",
      "1          ZN             26\n",
      "2       INDUS             76\n",
      "3        CHAS              2\n",
      "4         NOX             81\n"
     ]
    }
   ],
   "source": [
    "query_2 = '''\n",
    "SELECT 'CRIM' AS column_name, COUNT(DISTINCT CRIM) AS unique_values FROM boston\n",
    "UNION ALL\n",
    "SELECT 'ZN', COUNT(DISTINCT ZN) FROM boston\n",
    "UNION ALL\n",
    "SELECT 'INDUS', COUNT(DISTINCT INDUS) FROM boston\n",
    "UNION ALL\n",
    "SELECT 'CHAS', COUNT(DISTINCT CHAS) FROM boston\n",
    "UNION ALL\n",
    "SELECT 'NOX', COUNT(DISTINCT NOX) FROM boston\n",
    "'''\n",
    "result_2 = pd.read_sql(query_2, con)\n",
    "print(result_2)\n",
    "\n",
    "tasks += 1"
   ]
  },
  {
   "cell_type": "markdown",
   "id": "211f0886",
   "metadata": {},
   "source": [
    "# Задание 3: Вывод колонок, где медиана равна минимальному значению"
   ]
  },
  {
   "cell_type": "code",
   "execution_count": 5,
   "id": "213f9456",
   "metadata": {},
   "outputs": [
    {
     "name": "stdout",
     "output_type": "stream",
     "text": [
      "  column_name\n",
      "0          ZN\n",
      "1        CHAS\n"
     ]
    }
   ],
   "source": [
    "query_3 = '''\n",
    "SELECT column_name\n",
    "FROM (\n",
    "    SELECT 'CRIM' AS column_name, AVG(CRIM) AS median_value FROM (SELECT CRIM FROM boston ORDER BY CRIM LIMIT 1 OFFSET (SELECT COUNT(*) FROM boston) / 2)\n",
    "    UNION ALL\n",
    "    SELECT 'ZN', AVG(ZN) FROM (SELECT ZN FROM boston ORDER BY ZN LIMIT 1 OFFSET (SELECT COUNT(*) FROM boston) / 2)\n",
    "    UNION ALL\n",
    "    SELECT 'INDUS', AVG(INDUS) FROM (SELECT INDUS FROM boston ORDER BY INDUS LIMIT 1 OFFSET (SELECT COUNT(*) FROM boston) / 2)\n",
    "    UNION ALL\n",
    "    SELECT 'CHAS', AVG(CHAS) FROM (SELECT CHAS FROM boston ORDER BY CHAS LIMIT 1 OFFSET (SELECT COUNT(*) FROM boston) / 2)\n",
    "    UNION ALL\n",
    "    SELECT 'NOX', AVG(NOX) FROM (SELECT NOX FROM boston ORDER BY NOX LIMIT 1 OFFSET (SELECT COUNT(*) FROM boston) / 2)\n",
    ") \n",
    "WHERE median_value = (SELECT MIN(median_value) FROM (\n",
    "    SELECT AVG(CRIM) AS median_value FROM (SELECT CRIM FROM boston ORDER BY CRIM LIMIT 1 OFFSET (SELECT COUNT(*) FROM boston) / 2)\n",
    "    UNION ALL\n",
    "    SELECT AVG(ZN) FROM (SELECT ZN FROM boston ORDER BY ZN LIMIT 1 OFFSET (SELECT COUNT(*) FROM boston) / 2)\n",
    "    UNION ALL\n",
    "    SELECT AVG(INDUS) FROM (SELECT INDUS FROM boston ORDER BY INDUS LIMIT 1 OFFSET (SELECT COUNT(*) FROM boston) / 2)\n",
    "    UNION ALL\n",
    "    SELECT AVG(CHAS) FROM (SELECT CHAS FROM boston ORDER BY CHAS LIMIT 1 OFFSET (SELECT COUNT(*) FROM boston) / 2)\n",
    "    UNION ALL\n",
    "    SELECT AVG(NOX) FROM (SELECT NOX FROM boston ORDER BY NOX LIMIT 1 OFFSET (SELECT COUNT(*) FROM boston) / 2)\n",
    "))\n",
    "'''\n",
    "result_3 = pd.read_sql(query_3, con)\n",
    "print(result_3)\n",
    "\n",
    "tasks += 1"
   ]
  },
  {
   "cell_type": "markdown",
   "id": "0f1acbc7",
   "metadata": {},
   "source": [
    "# Задание 4: Выведите разницу между среднем количеством комнат(RM) в домах с самой дорогой стоимостью(MEDV) и 25 самыми дешевыми домами. Аналогично по 50, 100, 200, 300 самыми дешевыми домами. (кол-во домов(25,50,100,200,300), среднее кол-во комнат в них, среднее кол-во комнат в самых дорогих, разница). Напишите влияет ли кол-во комнат на стоимость и как сильно."
   ]
  },
  {
   "cell_type": "code",
   "execution_count": 6,
   "id": "6654b17d",
   "metadata": {},
   "outputs": [
    {
     "name": "stdout",
     "output_type": "stream",
     "text": [
      "Для 25 самых дешевых домов:\n",
      "Среднее количество комнат (округлено до целого): 6.0\n",
      "Средняя стоимость (округлено до сотых): 7.85\n",
      "Среднее количество комнат в самом дорогом доме (округлено до целого): 7.0\n",
      "Средняя стоимость самого дорогого дома (округлено до сотых): 50.0\n",
      "Разница в среднем количестве комнат: 1.0\n",
      "\n",
      "Для 50 самых дешевых домов:\n",
      "Среднее количество комнат (округлено до целого): 6.0\n",
      "Средняя стоимость (округлено до сотых): 9.65\n",
      "Среднее количество комнат в самом дорогом доме (округлено до целого): 7.0\n",
      "Средняя стоимость самого дорогого дома (округлено до сотых): 50.0\n",
      "Разница в среднем количестве комнат: 1.0\n",
      "\n",
      "Для 100 самых дешевых домов:\n",
      "Среднее количество комнат (округлено до целого): 6.0\n",
      "Средняя стоимость (округлено до сотых): 11.82\n",
      "Среднее количество комнат в самом дорогом доме (округлено до целого): 7.0\n",
      "Средняя стоимость самого дорогого дома (округлено до сотых): 50.0\n",
      "Разница в среднем количестве комнат: 1.0\n",
      "\n",
      "Для 200 самых дешевых домов:\n",
      "Среднее количество комнат (округлено до целого): 6.0\n",
      "Средняя стоимость (округлено до сотых): 14.84\n",
      "Среднее количество комнат в самом дорогом доме (округлено до целого): 7.0\n",
      "Средняя стоимость самого дорогого дома (округлено до сотых): 50.0\n",
      "Разница в среднем количестве комнат: 1.0\n",
      "\n",
      "Для 300 самых дешевых домов:\n",
      "Среднее количество комнат (округлено до целого): 6.0\n",
      "Средняя стоимость (округлено до сотых): 16.93\n",
      "Среднее количество комнат в самом дорогом доме (округлено до целого): 7.0\n",
      "Средняя стоимость самого дорогого дома (округлено до сотых): 50.0\n",
      "Разница в среднем количестве комнат: 1.0\n",
      "\n"
     ]
    }
   ],
   "source": [
    "query_highest_MEDV = '''\n",
    "SELECT ROUND(AVG(RM)) as avg_rm_highest_MEDV, ROUND(AVG(MEDV), 2) as avg_MEDV_highest\n",
    "FROM boston \n",
    "WHERE MEDV = (SELECT MAX(MEDV) FROM boston)\n",
    "'''\n",
    "highest_MEDV = pd.read_sql(query_highest_MEDV, con).iloc[0]\n",
    "avg_rm_highest_MEDV, avg_MEDV_highest = highest_MEDV\n",
    "tasks += 1  # Увеличиваем счетчик задач после успешного выполнения запроса\n",
    "\n",
    "quantities = [25, 50, 100, 200, 300]\n",
    "for qty in quantities:\n",
    "    query = f'''\n",
    "    WITH ranked_boston AS (\n",
    "        SELECT *, ROW_NUMBER() OVER (ORDER BY MEDV ASC) AS rank\n",
    "        FROM boston\n",
    "    )\n",
    "    SELECT {qty} as qty_homes, ROUND(AVG(RM)) as avg_rm_lowest_MEDV, ROUND(AVG(MEDV), 2) as avg_MEDV_lowest\n",
    "    FROM ranked_boston\n",
    "    WHERE rank <= {qty}\n",
    "    '''\n",
    "    result = pd.read_sql(query, con).iloc[0]\n",
    "    avg_rm_lowest_MEDV, avg_MEDV_lowest = result['avg_rm_lowest_MEDV'], result['avg_MEDV_lowest']\n",
    "    difference = avg_rm_highest_MEDV - avg_rm_lowest_MEDV  # Разница в количестве комнат уже округлена до целого\n",
    "    print(f\"Для {qty} самых дешевых домов:\")\n",
    "    print(f\"Среднее количество комнат (округлено до целого): {avg_rm_lowest_MEDV}\")\n",
    "    print(f\"Средняя стоимость (округлено до сотых): {avg_MEDV_lowest}\")\n",
    "    print(f\"Среднее количество комнат в самом дорогом доме (округлено до целого): {avg_rm_highest_MEDV}\")\n",
    "    print(f\"Средняя стоимость самого дорогого дома (округлено до сотых): {avg_MEDV_highest}\")\n",
    "    print(f\"Разница в среднем количестве комнат: {difference}\\n\")\n",
    "    tasks += 1"
   ]
  },
  {
   "cell_type": "markdown",
   "id": "106875c7",
   "metadata": {},
   "source": [
    "Вывод:\n",
    "Влияния на изменение стоимости дорогого жилья при увиличении выборки не несет существенного изменения и колеблется в пределах погрешности\n",
    "Влияние кол-ва комнат в дешевом жилье существенно изменяется, в зависимости от увеличения размерности выборки"
   ]
  },
  {
   "cell_type": "markdown",
   "id": "f391e77e",
   "metadata": {},
   "source": [
    "# Задание 5: Выведите ранги значений колонки LSTAT(процент населения с более низким статусом) в домах с самой дорогой стоимостью (значение LSTAT, стоимость, ранг) среди всех значений LSTAT. Напишите какой вывод можно сделать по этим данным."
   ]
  },
  {
   "cell_type": "code",
   "execution_count": 7,
   "id": "b5b3da79",
   "metadata": {},
   "outputs": [
    {
     "name": "stdout",
     "output_type": "stream",
     "text": [
      "    LSTAT  MEDV  LSTAT_Rank\n",
      "0    1.73  50.0           1\n",
      "1    1.92  50.0           2\n",
      "2    2.88  50.0           3\n",
      "3    2.96  50.0           4\n",
      "4    2.97  50.0           5\n",
      "5    3.16  50.0           6\n",
      "6    3.26  50.0           7\n",
      "7    3.32  50.0           8\n",
      "8    3.70  50.0           9\n",
      "9    3.73  50.0          10\n",
      "10   4.45  50.0          11\n",
      "11   4.63  50.0          12\n",
      "12   5.12  50.0          13\n",
      "13   7.44  50.0          14\n",
      "14   8.88  50.0          15\n",
      "15   9.53  50.0          16\n"
     ]
    }
   ],
   "source": [
    "query = '''\n",
    "SELECT LSTAT, MEDV, RANK() OVER (ORDER BY LSTAT) AS LSTAT_Rank\n",
    "FROM boston\n",
    "WHERE MEDV = (SELECT MAX(MEDV) FROM boston)\n",
    "ORDER BY LSTAT\n",
    "'''\n",
    "# Запускаем запрос и считываем результаты\n",
    "df = pd.read_sql(query, con)\n",
    "print(df)\n",
    "\n",
    "tasks += 1"
   ]
  },
  {
   "cell_type": "markdown",
   "id": "b1556670",
   "metadata": {},
   "source": [
    "Вывод: самые дорогие районы не являются монолитными с точки зрения социально-экономического статуса населения. Данные показывают наличие домов в этих районах, где проживает население с более низким социально-экономическим статусом. Это может свидетельствовать о сложной социальной структуре города и разнообразии жилищных условий, доступных в рамках одной ценовой категории. Такие результаты могут представлять интерес для исследователей городской среды, социологов и разработчиков городской политики, поскольку показывают важность комплексного подхода к анализу жилищных условий и населения городов."
   ]
  },
  {
   "cell_type": "markdown",
   "id": "790c47a5",
   "metadata": {},
   "source": [
    "# Задание 6: Выведите среднюю стоимость домов граничащих с рекой(CHAS) и нет (граничит/не граничит, стоимость)"
   ]
  },
  {
   "cell_type": "code",
   "execution_count": 8,
   "id": "d82a4b38",
   "metadata": {},
   "outputs": [
    {
     "name": "stdout",
     "output_type": "stream",
     "text": [
      "  Граничит/Не граничит  AVG_MEDV\n",
      "0          Не граничит     22.09\n",
      "1             Граничит     28.44\n"
     ]
    }
   ],
   "source": [
    "query_5 = '''\n",
    "SELECT \n",
    "    CHAS,\n",
    "    AVG(MEDV) as AVG_MEDV\n",
    "FROM \n",
    "    boston\n",
    "GROUP BY\n",
    "    CHAS\n",
    "'''\n",
    "\n",
    "# Выполняем запрос и выводим результаты\n",
    "avg_price_df = pd.read_sql(query_5, con)\n",
    "avg_price_df['Граничит/Не граничит'] = avg_price_df['CHAS'].apply(lambda x: 'Граничит' if x == 1 else 'Не граничит')\n",
    "avg_price_df['AVG_MEDV'] = avg_price_df['AVG_MEDV'].apply(lambda x: round(x, 2))\n",
    "print(avg_price_df[['Граничит/Не граничит', 'AVG_MEDV']])\n",
    "tasks += 1"
   ]
  },
  {
   "cell_type": "markdown",
   "id": "63900896",
   "metadata": {},
   "source": [
    "# Задание 7: Выведите все колонки, у которых среднее значение выше, когда дом граничит с рекой (название колонки) выбирая из CRIM, ZN, INDUS, CHAS, NOX. Напишите какой вывод можно сделать по этим данным."
   ]
  },
  {
   "cell_type": "code",
   "execution_count": 9,
   "id": "2c0b33db",
   "metadata": {},
   "outputs": [
    {
     "name": "stdout",
     "output_type": "stream",
     "text": [
      "Колонки с более высоким средним значением, когда дом граничит с рекой и их средние значения:\n",
      "INDUS: 12.72\n",
      "NOX: 0.59\n"
     ]
    }
   ],
   "source": [
    "query_6 = '''\n",
    "SELECT \n",
    "    'CRIM' AS column_name, AVG(CRIM) AS avg_value_river_side\n",
    "FROM boston\n",
    "WHERE CHAS = 1\n",
    "UNION ALL\n",
    "SELECT \n",
    "    'ZN', AVG(ZN)\n",
    "FROM boston\n",
    "WHERE CHAS = 1\n",
    "UNION ALL\n",
    "SELECT \n",
    "    'INDUS', AVG(INDUS)\n",
    "FROM boston\n",
    "WHERE CHAS = 1\n",
    "UNION ALL\n",
    "SELECT \n",
    "    'NOX', AVG(NOX)\n",
    "FROM boston\n",
    "WHERE CHAS = 1\n",
    "'''\n",
    "avg_values_river_side = pd.read_sql(query_6, con)\n",
    "\n",
    "query_6_no_river = '''\n",
    "SELECT \n",
    "    'CRIM' AS column_name, AVG(CRIM) AS avg_value_no_river_side\n",
    "FROM boston\n",
    "WHERE CHAS = 0\n",
    "UNION ALL\n",
    "SELECT \n",
    "    'ZN', AVG(ZN)\n",
    "FROM boston\n",
    "WHERE CHAS = 0\n",
    "UNION ALL\n",
    "SELECT \n",
    "    'INDUS', AVG(INDUS)\n",
    "FROM boston\n",
    "WHERE CHAS = 0\n",
    "UNION ALL\n",
    "SELECT \n",
    "    'NOX', AVG(NOX)\n",
    "FROM boston\n",
    "WHERE CHAS = 0\n",
    "'''\n",
    "avg_values_no_river_side = pd.read_sql(query_6_no_river, con)\n",
    "\n",
    "# Слияние двух DataFrame для сравнения средних значений\n",
    "comparison_df = avg_values_river_side.merge(avg_values_no_river_side, on='column_name')\n",
    "comparison_df.columns = ['column_name', 'avg_value_river_side', 'avg_value_no_river_side']\n",
    "\n",
    "# Выбор тех колонок, где среднее значение больше у домов рядом с рекой\n",
    "higher_avg_river_side = comparison_df[comparison_df['avg_value_river_side'] > comparison_df['avg_value_no_river_side']]\n",
    "\n",
    "print('Колонки с более высоким средним значением, когда дом граничит с рекой и их средние значения:')\n",
    "for index, row in higher_avg_river_side.iterrows():\n",
    "    print(f\"{row['column_name']}: {row['avg_value_river_side']:.2f}\")\n",
    "\n",
    "tasks += 1"
   ]
  },
  {
   "cell_type": "markdown",
   "id": "95c23a8b",
   "metadata": {},
   "source": [
    "Вывод:\n",
    "1. Промышленная застройка: районы, граничащие с рекой, имеют более высокую долю промышленной застройки по сравнению с районами, не граничащими с рекой. Это может означать, что речные территории привлекают промышленные предприятия по различным причинам, возможно, из-за легкости доступа к воде для промышленного использования или транспортной доступности.\n",
    "\n",
    "2. Концентрация оксидов азота: Уровень концентрации оксидов азота (NOX), который является показателем загрязнения воздуха, также выше в районах, граничащих с рекой. Это может указывать на то, что промышленные объекты в этих районах вносят значительный вклад в загрязнение воздуха, что особенно важно для рассмотрения при планировании защиты окружающей среды и здоровья общественности.\n",
    "\n",
    "3. Влияние на экологию и здоровье: Высокие значения NOX могут иметь негативное воздействие на качество воздуха, что, в свою очередь, может негативно сказаться на здоровье жителей этих регионов. Значения INDUS и NOX указывают на более высокую концентрацию промышленной деятельности и связанного с ней загрязнения в районах вблизи реки. \n",
    "\n",
    "4. Задачи для местной политики и планирования: Для снижения потенциального негативного воздействия на окружающую среду и здоровье населения важно учитывать эти данные при разработке градостроительных планов и политики в области экологии. Меры могут включать в себя ужесточение экологических стандартов для промышленных предприятий вблизи водных ресурсов, а также развитие зеленых зон и рекреационных территорий, которые могут служить барьером между промышленными и жилыми зонами."
   ]
  },
  {
   "cell_type": "markdown",
   "id": "1b37ac3f",
   "metadata": {},
   "source": [
    "# Задание 8: Выведите значения долей промышленной застройки(INDUS), концентрации оксидов азота(NOX) и по их перцентилям - 10, 20 ... 100 ( перцетиль(10,20...100),значение INDUS, значение NOX). Напишите прослеживается между ними взаимосвязь"
   ]
  },
  {
   "cell_type": "code",
   "execution_count": 11,
   "id": "f2792054",
   "metadata": {},
   "outputs": [
    {
     "name": "stdout",
     "output_type": "stream",
     "text": [
      "Перцентиль 10:\n",
      "INDUS: 2.91\n",
      "NOX: 0.427\n",
      "\n",
      "Перцентиль 20:\n",
      "INDUS: 4.39\n",
      "NOX: 0.442\n",
      "\n",
      "Перцентиль 30:\n",
      "INDUS: 5.96\n",
      "NOX: 0.472\n",
      "\n",
      "Перцентиль 40:\n",
      "INDUS: 7.38\n",
      "NOX: 0.507\n",
      "\n",
      "Перцентиль 50:\n",
      "INDUS: 9.69\n",
      "NOX: 0.538\n",
      "\n",
      "Перцентиль 60:\n",
      "INDUS: 12.83\n",
      "NOX: 0.575\n",
      "\n",
      "Перцентиль 70:\n",
      "INDUS: 18.1\n",
      "NOX: 0.605\n",
      "\n",
      "Перцентиль 80:\n",
      "INDUS: 18.1\n",
      "NOX: 0.668\n",
      "\n",
      "Перцентиль 90:\n",
      "INDUS: 19.58\n",
      "NOX: 0.713\n",
      "\n",
      "Перцентиль 100:\n",
      "INDUS: 27.74\n",
      "NOX: 0.871\n",
      "\n"
     ]
    }
   ],
   "source": [
    "query = \"SELECT INDUS, NOX FROM boston\"\n",
    "df = pd.read_sql(query, con)\n",
    "\n",
    "# Функция для расчёта и вывода перцентилей для заданных столбцов\n",
    "def print_percentiles(df, columns):\n",
    "    global tasks\n",
    "    percentiles = np.arange(0.1, 1.1, 0.1) # от 10% до 100% с шагом 10%\n",
    "    results = {}\n",
    "    \n",
    "    for column in columns:\n",
    "        results[column] = [np.percentile(df[column], p*100) for p in percentiles]\n",
    "    \n",
    "    for p in percentiles:\n",
    "        print(f\"Перцентиль {int(p*100)}:\")\n",
    "        for column in columns:\n",
    "            print(f\"{column}: {results[column][int(p*10)-1]}\")\n",
    "        print() # Для лучшей читаемости\n",
    "    tasks += 1\n",
    "\n",
    "# Выводим перцентили для INDUS и NOX\n",
    "print_percentiles(df, ['INDUS', 'NOX'])"
   ]
  },
  {
   "cell_type": "markdown",
   "id": "8e132b8b",
   "metadata": {},
   "source": [
    "Вывод:\n",
    "Основываясь на этих наблюдениях, можно заключить, что между долей промышленной застройки (INDUS) и концентрацией оксидов азота (NOX) существует взаимосвязь. Регионы с высокой долей промышленной застройки склонны иметь и более высокие уровни концентрации оксидов азота, что свидетельствует о потенциальном воздействии промышленности на качество воздуха."
   ]
  },
  {
   "cell_type": "markdown",
   "id": "656445ea",
   "metadata": {},
   "source": [
    "# Проверка количества выполненных заданий в конце кода"
   ]
  },
  {
   "cell_type": "code",
   "execution_count": 13,
   "id": "4345d14a",
   "metadata": {},
   "outputs": [
    {
     "name": "stdout",
     "output_type": "stream",
     "text": [
      "Выполнены не все задания! 🙀\n"
     ]
    }
   ],
   "source": [
    "if tasks == 8:\n",
    "    print('Выполнены все задания 🙂')\n",
    "else:\n",
    "    print('Выполнены не все задания! 🙀')"
   ]
  },
  {
   "cell_type": "markdown",
   "id": "f76511b4",
   "metadata": {},
   "source": [
    "Не понял, почему выполнены не все задания..=("
   ]
  },
  {
   "cell_type": "code",
   "execution_count": null,
   "id": "ae118f23",
   "metadata": {},
   "outputs": [],
   "source": []
  }
 ],
 "metadata": {
  "kernelspec": {
   "display_name": "Python 3 (ipykernel)",
   "language": "python",
   "name": "python3"
  },
  "language_info": {
   "codemirror_mode": {
    "name": "ipython",
    "version": 3
   },
   "file_extension": ".py",
   "mimetype": "text/x-python",
   "name": "python",
   "nbconvert_exporter": "python",
   "pygments_lexer": "ipython3",
   "version": "3.11.5"
  }
 },
 "nbformat": 4,
 "nbformat_minor": 5
}
