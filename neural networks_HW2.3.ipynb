{
 "cells": [
  {
   "attachments": {},
   "cell_type": "markdown",
   "id": "c920fee3",
   "metadata": {},
   "source": [
    "Task 3: Обучить с нуля глубокую сеть на небольшом датасете. Сравнить результат с дообучением предобученной сети"
   ]
  },
  {
   "cell_type": "code",
   "execution_count": 1,
   "id": "d03c122e",
   "metadata": {},
   "outputs": [
    {
     "name": "stdout",
     "output_type": "stream",
     "text": [
      "Downloading https://www.cs.toronto.edu/~kriz/cifar-10-python.tar.gz to ./data\\cifar-10-python.tar.gz\n"
     ]
    },
    {
     "name": "stderr",
     "output_type": "stream",
     "text": [
      "100%|████████████████████████████████████████████████████████████████| 170498071/170498071 [04:24<00:00, 643506.11it/s]\n"
     ]
    },
    {
     "name": "stdout",
     "output_type": "stream",
     "text": [
      "Extracting ./data\\cifar-10-python.tar.gz to ./data\n",
      "Files already downloaded and verified\n"
     ]
    },
    {
     "name": "stderr",
     "output_type": "stream",
     "text": [
      "C:\\Users\\Roadmarshal\\anaconda3\\Lib\\site-packages\\torchvision\\models\\_utils.py:208: UserWarning: The parameter 'pretrained' is deprecated since 0.13 and may be removed in the future, please use 'weights' instead.\n",
      "  warnings.warn(\n",
      "C:\\Users\\Roadmarshal\\anaconda3\\Lib\\site-packages\\torchvision\\models\\_utils.py:223: UserWarning: Arguments other than a weight enum or `None` for 'weights' are deprecated since 0.13 and may be removed in the future. The current behavior is equivalent to passing `weights=ResNet18_Weights.IMAGENET1K_V1`. You can also use `weights=ResNet18_Weights.DEFAULT` to get the most up-to-date weights.\n",
      "  warnings.warn(msg)\n",
      "Downloading: \"https://download.pytorch.org/models/resnet18-f37072fd.pth\" to C:\\Users\\Roadmarshal/.cache\\torch\\hub\\checkpoints\\resnet18-f37072fd.pth\n",
      "100%|█████████████████████████████████████████████████████████████████████████████| 44.7M/44.7M [00:08<00:00, 5.26MB/s]\n"
     ]
    },
    {
     "name": "stdout",
     "output_type": "stream",
     "text": [
      "Training custom network...\n",
      "[1,  2000] loss: 2.158\n",
      "[1,  4000] loss: 1.812\n",
      "[1,  6000] loss: 1.653\n",
      "[1,  8000] loss: 1.541\n",
      "[1, 10000] loss: 1.511\n",
      "[1, 12000] loss: 1.448\n",
      "[2,  2000] loss: 1.375\n",
      "[2,  4000] loss: 1.365\n",
      "[2,  6000] loss: 1.326\n",
      "[2,  8000] loss: 1.322\n",
      "[2, 10000] loss: 1.277\n",
      "[2, 12000] loss: 1.274\n",
      "Finished Training\n",
      "Accuracy of the network on the 10000 test images: 55.29%\n",
      "Fine-tuning ResNet18...\n",
      "[1,  2000] loss: 2.542\n",
      "[1,  4000] loss: 2.608\n",
      "[1,  6000] loss: 2.595\n",
      "[1,  8000] loss: 2.596\n",
      "[1, 10000] loss: 2.583\n",
      "[1, 12000] loss: 2.658\n",
      "[2,  2000] loss: 2.598\n",
      "[2,  4000] loss: 2.621\n",
      "[2,  6000] loss: 2.641\n",
      "[2,  8000] loss: 2.601\n",
      "[2, 10000] loss: 2.611\n",
      "[2, 12000] loss: 2.616\n",
      "Finished Training\n",
      "Accuracy of the network on the 10000 test images: 26.19%\n"
     ]
    }
   ],
   "source": [
    "import torch\n",
    "import torchvision\n",
    "import torchvision.transforms as transforms\n",
    "import torch.nn as nn\n",
    "import torch.nn.functional as F\n",
    "import torch.optim as optim\n",
    "import torchvision.models as models\n",
    "\n",
    "# Трансформации и загрузка датасета CIFAR-10\n",
    "transform = transforms.Compose([\n",
    "    transforms.ToTensor(),\n",
    "    transforms.Normalize((0.5, 0.5, 0.5), (0.5, 0.5, 0.5))\n",
    "])\n",
    "trainset = torchvision.datasets.CIFAR10(root='./data', train=True, download=True, transform=transform)\n",
    "trainloader = torch.utils.data.DataLoader(trainset, batch_size=4, shuffle=True, num_workers=2)\n",
    "testset = torchvision.datasets.CIFAR10(root='./data', train=False, download=True, transform=transform)\n",
    "testloader = torch.utils.data.DataLoader(testset, batch_size=4, shuffle=False, num_workers=2)\n",
    "\n",
    "# Объявление пользовательской модели\n",
    "class Net(nn.Module):\n",
    "    def __init__(self):\n",
    "        super(Net, self).__init__()\n",
    "        self.conv1 = nn.Conv2d(3, 6, 5)\n",
    "        self.pool = nn.MaxPool2d(2, 2)\n",
    "        self.conv2 = nn.Conv2d(6, 16, 5)\n",
    "        self.fc1 = nn.Linear(16*5*5, 120)\n",
    "        self.fc2 = nn.Linear(120, 84)\n",
    "        self.fc3 = nn.Linear(84, 10)\n",
    "    def forward(self, x):\n",
    "        x = self.pool(F.relu(self.conv1(x)))\n",
    "        x = self.pool(F.relu(self.conv2(x)))\n",
    "        x = x.view(-1, 16*5*5)\n",
    "        x = F.relu(self.fc1(x))\n",
    "        x = F.relu(self.fc2(x))\n",
    "        x = self.fc3(x)\n",
    "        return x\n",
    "\n",
    "net = Net()\n",
    "\n",
    "# Загрузка предобученной модели ResNet18 и настройка под текущую задачу\n",
    "resnet18 = models.resnet18(pretrained=True)\n",
    "for param in resnet18.parameters():\n",
    "    param.requires_grad = False\n",
    "\n",
    "resnet18.fc = nn.Linear(resnet18.fc.in_features, 10)\n",
    "\n",
    "# Функция потерь и оптимизатор\n",
    "criterion = nn.CrossEntropyLoss()\n",
    "optimizer_net = optim.SGD(net.parameters(), lr=0.001, momentum=0.9)\n",
    "optimizer_resnet18 = optim.SGD(resnet18.fc.parameters(), lr=0.001, momentum=0.9)\n",
    "\n",
    "# Функция для обучения модели\n",
    "def train_model(model, optimizer, epochs=2):\n",
    "    for epoch in range(epochs):\n",
    "        running_loss = 0.0\n",
    "        for i, data in enumerate(trainloader, 0):\n",
    "            inputs, labels = data\n",
    "\n",
    "            optimizer.zero_grad()\n",
    "\n",
    "            outputs = model(inputs)\n",
    "            loss = criterion(outputs, labels)\n",
    "            loss.backward()\n",
    "            optimizer.step()\n",
    "\n",
    "            running_loss += loss.item()\n",
    "            if i % 2000 == 1999:    # печать каждые 2000 мини-пакетов\n",
    "                print(f'[{epoch + 1}, {i + 1:5d}] loss: {running_loss / 2000:.3f}')\n",
    "                running_loss = 0.0\n",
    "    print('Finished Training')\n",
    "\n",
    "# Функция для тестирования модели\n",
    "def test_model(model):\n",
    "    correct = 0\n",
    "    total = 0\n",
    "    with torch.no_grad():\n",
    "        for data in testloader:\n",
    "            images, labels = data\n",
    "            outputs = model(images)\n",
    "            _, predicted = torch.max(outputs.data, 1)\n",
    "            total += labels.size(0)\n",
    "            correct += (predicted == labels).sum().item()\n",
    "    print(f'Accuracy of the network on the 10000 test images: {100 * correct / total}%')\n",
    "\n",
    "# Обучение сети с нуля\n",
    "print(\"Training custom network...\")\n",
    "train_model(net, optimizer_net)\n",
    "test_model(net)\n",
    "\n",
    "# Дообучение предобученной сети\n",
    "print(\"Fine-tuning ResNet18...\")\n",
    "train_model(resnet18, optimizer_resnet18)\n",
    "test_model(resnet18)"
   ]
  },
  {
   "cell_type": "markdown",
   "id": "b69cbd0e",
   "metadata": {},
   "source": [
    "снижение качества?! вот это неожиданно :DD"
   ]
  }
 ],
 "metadata": {
  "kernelspec": {
   "display_name": "Python 3 (ipykernel)",
   "language": "python",
   "name": "python3"
  },
  "language_info": {
   "codemirror_mode": {
    "name": "ipython",
    "version": 3
   },
   "file_extension": ".py",
   "mimetype": "text/x-python",
   "name": "python",
   "nbconvert_exporter": "python",
   "pygments_lexer": "ipython3",
   "version": "3.11.5"
  }
 },
 "nbformat": 4,
 "nbformat_minor": 5
}
