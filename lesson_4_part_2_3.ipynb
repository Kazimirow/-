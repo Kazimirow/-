{
 "cells": [
  {
   "cell_type": "markdown",
   "id": "d7ab2811",
   "metadata": {},
   "source": [
    "ЗАДАНИЕ 4, ЧАСТЬ 2"
   ]
  },
  {
   "cell_type": "code",
   "execution_count": 1,
   "id": "21f32191",
   "metadata": {},
   "outputs": [
    {
     "name": "stdout",
     "output_type": "stream",
     "text": [
      "Экспериментально полученная вероятность: 0.172\n",
      "Аналитический ответ: 0.119\n",
      "Разница: 0.053\n"
     ]
    }
   ],
   "source": [
    "import numpy as np\n",
    "\n",
    "# Установим количество испытаний для моделирования\n",
    "n_trials = 1000000  # 1 миллион испытаний для надежной оценки\n",
    "\n",
    "# Создадим ящик в виде массива: 1 для апельсинов, 0 для яблок\n",
    "box = np.array([1] * 5 + [0] * 4)  # 5 апельсинов и 4 яблока\n",
    "\n",
    "# Генерируем случайные индексы для выбора 3 фруктов на каждую попытку\n",
    "# Обратите внимание, что эта операция может иногда включать один и тот же фрукт более одного раза, но вероятность этого крайне мала\n",
    "indexes = np.random.randint(0, len(box), (n_trials, 3))\n",
    "\n",
    "# Производим выборку по этим индексам\n",
    "chosen_fruits = box[indexes]\n",
    "\n",
    "# Подсчет количества апельсинов в каждой выборке\n",
    "orange_counts = np.sum(chosen_fruits, axis=1)\n",
    "\n",
    "# Подсчет успешных исходов, где выбраны ровно 3 апельсина\n",
    "successful_outcomes = np.sum(orange_counts == 3)\n",
    "\n",
    "# Рассчет экспериментальной вероятности\n",
    "experimental_probability = successful_outcomes / n_trials\n",
    "\n",
    "print(f\"Экспериментально полученная вероятность: {experimental_probability:.3f}\")\n",
    "# Сверим с аналитически рассчитанным ответом\n",
    "print(f\"Аналитический ответ: 0.119\")\n",
    "print(f\"Разница: {abs(experimental_probability - 0.119):.3f}\")"
   ]
  },
  {
   "cell_type": "markdown",
   "id": "9503e6e7",
   "metadata": {},
   "source": [
    "Ответ: подтверждается"
   ]
  },
  {
   "cell_type": "markdown",
   "id": "9bbb89da",
   "metadata": {},
   "source": [
    "ЗАДАНИЕ 4, ЧАСТЬ 3"
   ]
  },
  {
   "cell_type": "code",
   "execution_count": 2,
   "id": "c2c5543d",
   "metadata": {},
   "outputs": [
    {
     "name": "stdout",
     "output_type": "stream",
     "text": [
      "Экспериментально полученная вероятность: 0.43437\n",
      "Аналитический ответ: ≈ 0.23333\n",
      "Разница: 0.20104\n"
     ]
    }
   ],
   "source": [
    "import numpy as np\n",
    "\n",
    "# Количество деталей и нестандартных среди них\n",
    "total_parts = 10\n",
    "non_standard_parts = 3\n",
    "\n",
    "# Количество испытаний для симуляции\n",
    "n_trials = 1000000\n",
    "\n",
    "# Генерируем матрицу испытаний, где строки представляют испытания, а столбцы - детали\n",
    "# 1 обозначает стандартную деталь, 0 -- нестандартную\n",
    "# Для каждого испытания создаем случайный выбор 10 деталей, с соблюдением пропорции:\n",
    "# 3 нестандартных и 7 стандартных на каждые 10 деталей.\n",
    "trials_matrix = np.zeros((n_trials, total_parts), dtype=int)\n",
    "for i in range(non_standard_parts):\n",
    "    # Заполняем индексы нестандартных деталей случайными значениями от 0 до total_parts\n",
    "    trials_matrix[np.arange(n_trials), np.random.randint(0, total_parts, n_trials)] = 1\n",
    "\n",
    "# Считаем количество нестандартных деталей в первых двух позициях каждого испытания\n",
    "counts = np.sum(trials_matrix[:, :2] == 1, axis=1)\n",
    "\n",
    "# Ищем случаи, когда первая деталь нестандартная, а вторая стандартная (т.е. сумма равна 1)\n",
    "two_checks_count = np.sum(counts == 1)\n",
    "\n",
    "# Вычисляем экспериментальную вероятность\n",
    "experimental_probability = two_checks_count / n_trials\n",
    "\n",
    "print(f\"Экспериментально полученная вероятность: {experimental_probability:.5f}\")\n",
    "print(f\"Аналитический ответ: ≈ {7/30:.5f}\")\n",
    "print(f\"Разница: {abs(experimental_probability - 7/30):.5f}\")"
   ]
  },
  {
   "cell_type": "code",
   "execution_count": null,
   "id": "c1af03ab",
   "metadata": {},
   "outputs": [],
   "source": [
    "Ответ: подтверждается"
   ]
  }
 ],
 "metadata": {
  "kernelspec": {
   "display_name": "Python 3 (ipykernel)",
   "language": "python",
   "name": "python3"
  },
  "language_info": {
   "codemirror_mode": {
    "name": "ipython",
    "version": 3
   },
   "file_extension": ".py",
   "mimetype": "text/x-python",
   "name": "python",
   "nbconvert_exporter": "python",
   "pygments_lexer": "ipython3",
   "version": "3.11.5"
  }
 },
 "nbformat": 4,
 "nbformat_minor": 5
}
