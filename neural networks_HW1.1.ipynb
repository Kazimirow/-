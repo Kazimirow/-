{
 "cells": [
  {
   "cell_type": "code",
   "execution_count": 1,
   "metadata": {},
   "outputs": [],
   "source": [
    "#Task 1: Найти корни квадратного уравнения методом градиентного спуска"
   ]
  },
  {
   "cell_type": "code",
   "execution_count": 2,
   "metadata": {},
   "outputs": [
    {
     "name": "stdout",
     "output_type": "stream",
     "text": [
      "Найденные корни: 1.0 (0.9999999583431495) и 4.0 (4.00000004165685)\n"
     ]
    }
   ],
   "source": [
    "\n",
    "def loss_function(x):\n",
    "    return (x ** 2 - 5 * x + 4) ** 2\n",
    "\n",
    "def derivative(x):\n",
    "    return 2 * (x ** 2 - 5 * x + 4) * (2 * x - 5)\n",
    "\n",
    "def gradient_descent(starting_point, lr, epochs):\n",
    "    x = starting_point\n",
    "    for _ in range(epochs):\n",
    "        grad = derivative(x)\n",
    "        x = x - lr * grad\n",
    "        if abs(grad) < 1e-6:  # условие достаточно маленького градиента для остановки\n",
    "            break\n",
    "    return x\n",
    "\n",
    "# Начальные параметры для поиска первого корня\n",
    "starting_point1 = 0\n",
    "lr = 0.01\n",
    "epochs = 1000\n",
    "\n",
    "root1 = gradient_descent(starting_point1, lr, epochs)\n",
    "\n",
    "# Начальные параметры для поиска второго корня\n",
    "starting_point2 = 6  \n",
    "root2 = gradient_descent(starting_point2, lr, epochs)\n",
    "\n",
    "# Вывод результатов\n",
    "print(f\"Найденные корни: {round(root1, 2)} ({root1}) и {round(root2, 2)} ({root2})\")\n"
   ]
  },
  {
   "cell_type": "markdown",
   "metadata": {},
   "source": [
    "## Ответы на вопросы\n",
    "\n",
    "1. Всегда ли сойдемся за приемлемое количество шагов?\n",
    "   - Нет, это не гарантировано. Сходимость зависит от выбора функции потерь, размера шага (learning rate, LR) и начальной точки. Если LR слишком велик, процесс может расходиться. Если слишком мал, то сходимость будет медленной.\n",
    "\n",
    "2. Важна ли начальная точка?\n",
    "   - Да, важна. Градиентный спуск найдет ближайший локальный минимум на основе начальной точки. В случае квадратного уравнения это влияет на то, какой именно корень будет найден первым.\n",
    "\n",
    "3. Как найти второй корень?\n",
    "   - Чтобы найти второй корень, нужно начать градиентный спуск из другой точки, не лежащей между корнями, или изменить функцию потерь так, чтобы минимизация привела к другому корню.\n",
    "\n",
    "4. Как влияет LR?\n",
    "   - LR определяет размер шага в процессе градиентного спуска. Если LR слишком маленький, алгоритм будет сходиться медленно, что может привести к необходимости большего числа шагов. Если LR слишком большой, алгоритм может \"перескакивать\" через минимум или даже расходиться."
   ]
  }
 ],
 "metadata": {
  "kernelspec": {
   "display_name": "base",
   "language": "python",
   "name": "python3"
  },
  "language_info": {
   "codemirror_mode": {
    "name": "ipython",
    "version": 3
   },
   "file_extension": ".py",
   "mimetype": "text/x-python",
   "name": "python",
   "nbconvert_exporter": "python",
   "pygments_lexer": "ipython3",
   "version": "3.11.5"
  }
 },
 "nbformat": 4,
 "nbformat_minor": 2
}
