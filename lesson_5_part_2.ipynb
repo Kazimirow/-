{
 "cells": [
  {
   "cell_type": "markdown",
   "id": "5e417077",
   "metadata": {},
   "source": [
    "Задание 5, часть 2 (Доверительный интервал на основе ЦПТ)"
   ]
  },
  {
   "cell_type": "code",
   "execution_count": 1,
   "id": "1be2eeb3",
   "metadata": {},
   "outputs": [
    {
     "name": "stdout",
     "output_type": "stream",
     "text": [
      "Доверительные интервалы для среднего значения total day calls - 'ушли' (ЦПТ): [ 99.41 , 103.26 ]\n",
      "Доверительные интервалы для среднего значения total day calls - 'ушли' (statsmodels): ('99.41', '103.26')\n",
      "\n",
      "Доверительные интервалы для среднего значения total day calls - 'не ушли' (ЦПТ): [ 99.56 , 101.01 ]\n",
      "Доверительные интервалы для среднего значения total day calls - 'не ушли' (statsmodels): ('99.56', '101.01')\n"
     ]
    }
   ],
   "source": [
    "import pandas as pd\n",
    "import numpy as np\n",
    "from scipy.stats import norm\n",
    "from statsmodels.stats.weightstats import _zconfint_generic\n",
    "\n",
    "#Загрузка данных\n",
    "df = pd.read_csv('C:\\\\Users\\\\Roadmarshal\\\\Downloads\\\\telecom_churn.csv')\n",
    "\n",
    "#Разделение данных\n",
    "churned = df[df['churn'] == True]['total day calls']\n",
    "not_churned = df[df['churn'] == False]['total day calls']\n",
    "\n",
    "#Расчет среднего и стандартной ошибки\n",
    "# Cреднее и стандартная ошибка для группы \"ушли\"\n",
    "mean_churned = np.mean(churned)\n",
    "stderr_churned = np.std(churned, ddof=1) / np.sqrt(len(churned))\n",
    "\n",
    "# Cреднее и стандартная ошибка для группы \"не ушли\"\n",
    "mean_not_churned = np.mean(not_churned)\n",
    "stderr_not_churned = np.std(not_churned, ddof=1) / np.sqrt(len(not_churned))\n",
    "\n",
    "#Строим интервалы, используя ЦПТ\n",
    "# Для группы \"ушли\"\n",
    "ci_lower_churned = mean_churned - 1.96 * stderr_churned\n",
    "ci_upper_churned = mean_churned + 1.96 * stderr_churned\n",
    "\n",
    "# Для группы \"не ушли\"\n",
    "ci_lower_not_churned = mean_not_churned - 1.96 * stderr_not_churned\n",
    "ci_upper_not_churned = mean_not_churned + 1.96 * stderr_not_churned\n",
    "\n",
    "#Использование statsmodels для расчета интервалов\n",
    "# Для группы \"ушли\"\n",
    "ci_churned_statsmodels = _zconfint_generic(mean_churned, stderr_churned, 0.05, 'two-sided')\n",
    "\n",
    "# Для группы \"не ушли\"\n",
    "ci_not_churned_statsmodels = _zconfint_generic(mean_not_churned, stderr_not_churned, 0.05, 'two-sided')\n",
    "\n",
    "#Сравнение интервалов\n",
    "print(\"Доверительные интервалы для среднего значения total day calls - 'ушли' (ЦПТ): [\", format(ci_lower_churned, \".2f\"), \",\", format(ci_upper_churned, \".2f\"), \"]\")\n",
    "print(\"Доверительные интервалы для среднего значения total day calls - 'ушли' (statsmodels):\", tuple(map(lambda x: format(x, \".2f\"), ci_churned_statsmodels)))\n",
    "print()\n",
    "print(\"Доверительные интервалы для среднего значения total day calls - 'не ушли' (ЦПТ): [\", format(ci_lower_not_churned, \".2f\"), \",\", format(ci_upper_not_churned, \".2f\"), \"]\")\n",
    "print(\"Доверительные интервалы для среднего значения total day calls - 'не ушли' (statsmodels):\", tuple(map(lambda x: format(x, \".2f\"), ci_not_churned_statsmodels)))"
   ]
  },
  {
   "cell_type": "markdown",
   "id": "4774d533",
   "metadata": {},
   "source": [
    "1) Для группы \"ушли\":\n",
    "99.41 , 103.26 (ЦПТ) и 99.41, 103.26 (statsmodels): Эти интервалы говорят нам, что с 95% вероятностью среднее количество звонков в день для ушедших клиентов лежит между 99.41 и 103.26 звонков. Это означает, что если бы мы многократно выбирали случайные выборки ушедших клиентов и для каждой выборки рассчитывали среднее количество дневных звонков, то примерно в 95% случаев это среднее попадало бы в упомянутый интервал.\n",
    "2) Для группы \"не ушли\":\n",
    "99.56 , 101.01 (ЦПТ) и 99.56, 101.01 (statsmodels): Аналогично, эти доверительные интервалы показывают, что с 95% вероятностью среднее количество звонков в день для клиентов, которые остались с компанией, будет в пределах от 99.56 до 101.01 звонков. Это означает, что если бы мы повторяли процесс измерения для множества различных выборок оставшихся клиентов, то приблизительно в 95% этих измерений среднее значение попадало бы в данный интервал.\n",
    "\n",
    "Видно, что доверительные интервалы для обеих групп перекрываются, что может указывать на то, что значимых различий в среднем количестве дневных звонков между ушедшими и не ушедшими клиентами нет или они незначительны"
   ]
  },
  {
   "cell_type": "code",
   "execution_count": null,
   "id": "7dea3aeb",
   "metadata": {},
   "outputs": [],
   "source": []
  }
 ],
 "metadata": {
  "kernelspec": {
   "display_name": "Python 3 (ipykernel)",
   "language": "python",
   "name": "python3"
  },
  "language_info": {
   "codemirror_mode": {
    "name": "ipython",
    "version": 3
   },
   "file_extension": ".py",
   "mimetype": "text/x-python",
   "name": "python",
   "nbconvert_exporter": "python",
   "pygments_lexer": "ipython3",
   "version": "3.11.5"
  }
 },
 "nbformat": 4,
 "nbformat_minor": 5
}
