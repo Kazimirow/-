{
 "cells": [
  {
   "cell_type": "markdown",
   "id": "cac3ae2d",
   "metadata": {},
   "source": [
    "урок 4"
   ]
  },
  {
   "cell_type": "markdown",
   "id": "02e9da40",
   "metadata": {},
   "source": [
    "Задача 2 (теория вероятности)"
   ]
  },
  {
   "cell_type": "code",
   "execution_count": 1,
   "id": "38df1037",
   "metadata": {},
   "outputs": [
    {
     "name": "stdout",
     "output_type": "stream",
     "text": [
      "Экспериментально полученная вероятность: 0.119\n",
      "Аналитический ответ: 0.119\n"
     ]
    }
   ],
   "source": [
    "import numpy as np\n",
    "\n",
    "# Устанавливаем количество испытаний для моделирования\n",
    "n_trials = 1000000  # 1 миллион испытаний для надежной оценки\n",
    "\n",
    "# Создаем 'ящик' в виде массива: 1 для апельсинов, 0 для яблок\n",
    "box = np.array([1] * 5 + [0] * 4)  # 5 апельсинов и 4 яблока\n",
    "\n",
    "# Инициализация переменной для подсчета успешных исходов\n",
    "successful_outcomes = 0\n",
    "\n",
    "# Процесс выборки и подсчета результата\n",
    "for _ in range(n_trials):\n",
    "    chosen_fruits = np.random.choice(box, 3, replace=False)  # Выбираем 3 фрукта без повторений\n",
    "    if np.sum(chosen_fruits) == 3:  # Если сумма равна 3, выбраны все апельсины\n",
    "        successful_outcomes += 1\n",
    "\n",
    "# Расчет экспериментальной вероятности\n",
    "experimental_probability = successful_outcomes / n_trials\n",
    "print(f\"Экспериментально полученная вероятность: {experimental_probability:.3f}\")\n",
    "# Сверим с аналитически рассчитанным ответом\n",
    "print(f\"Аналитический ответ: 0.119\")"
   ]
  },
  {
   "cell_type": "code",
   "execution_count": null,
   "id": "689348e6",
   "metadata": {},
   "outputs": [],
   "source": [
    "ответ подтверждается"
   ]
  },
  {
   "cell_type": "markdown",
   "id": "adfc14ca",
   "metadata": {},
   "source": [
    "Задача 3 (теория вероятности)"
   ]
  },
  {
   "cell_type": "code",
   "execution_count": 2,
   "id": "0bce7429",
   "metadata": {},
   "outputs": [
    {
     "name": "stdout",
     "output_type": "stream",
     "text": [
      "Экспериментально полученная вероятность: 0.23262\n",
      "Аналитический ответ: ≈ 0.23333\n"
     ]
    }
   ],
   "source": [
    "import numpy as np\n",
    "\n",
    "# Количество деталей и нестандартных среди них\n",
    "total_parts = 10\n",
    "non_standard_parts = 3\n",
    "\n",
    "# Количество испытаний для симуляции\n",
    "n_trials = 1000000\n",
    "\n",
    "# Инициализируем счетчик успешных исходов\n",
    "successful_attempts = 0\n",
    "\n",
    "for _ in range(n_trials):\n",
    "    # Генерируем массив, где 1 - нестандартная деталь, 0 - стандартная\n",
    "    parts = np.array([1]*non_standard_parts + [0]*(total_parts - non_standard_parts))\n",
    "    np.random.shuffle(parts) # Перемешиваем детали для каждого испытания\n",
    "    \n",
    "    # Проверяем первые две детали\n",
    "    if parts[0] == 1 and parts[1] == 0:\n",
    "        successful_attempts += 1\n",
    "\n",
    "# Вычисляем экспериментальную вероятность\n",
    "experimental_probability = successful_attempts / n_trials\n",
    "\n",
    "print(f\"Экспериментально полученная вероятность: {experimental_probability:.5f}\")\n",
    "print(f\"Аналитический ответ: ≈ {7/30:.5f}\")"
   ]
  },
  {
   "cell_type": "code",
   "execution_count": null,
   "id": "b3f4c063",
   "metadata": {},
   "outputs": [],
   "source": [
    "не подтверждается"
   ]
  }
 ],
 "metadata": {
  "kernelspec": {
   "display_name": "Python 3 (ipykernel)",
   "language": "python",
   "name": "python3"
  },
  "language_info": {
   "codemirror_mode": {
    "name": "ipython",
    "version": 3
   },
   "file_extension": ".py",
   "mimetype": "text/x-python",
   "name": "python",
   "nbconvert_exporter": "python",
   "pygments_lexer": "ipython3",
   "version": "3.11.5"
  }
 },
 "nbformat": 4,
 "nbformat_minor": 5
}
