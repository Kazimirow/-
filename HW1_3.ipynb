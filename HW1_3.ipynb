{
 "cells": [
  {
   "cell_type": "markdown",
   "id": "6aea2d10-37cf-4df3-8434-b933b78ecdf5",
   "metadata": {},
   "source": [
    "задание 3: Реализовать stemming, lemmatization & BoW на следующем датасете: https://cloud.mail.ru/public/Z4L3/vB8GcgTtK (Russian Toxic-abuse comments)"
   ]
  },
  {
   "cell_type": "code",
   "execution_count": 2,
   "id": "db152b84-e557-44dc-a66a-07b44034b6c5",
   "metadata": {},
   "outputs": [
    {
     "name": "stderr",
     "output_type": "stream",
     "text": [
      "[nltk_data] Downloading package punkt to\n",
      "[nltk_data]     C:\\Users\\Roadmarshal\\AppData\\Roaming\\nltk_data...\n",
      "[nltk_data]   Package punkt is already up-to-date!\n",
      "[nltk_data] Downloading package stopwords to\n",
      "[nltk_data]     C:\\Users\\Roadmarshal\\AppData\\Roaming\\nltk_data...\n",
      "[nltk_data]   Package stopwords is already up-to-date!\n"
     ]
    },
    {
     "name": "stdout",
     "output_type": "stream",
     "text": [
      "                                             comment  \\\n",
      "0               Верблюдов-то за что? Дебилы, бл...\\n   \n",
      "1  Хохлы, это отдушина затюканого россиянина, мол...   \n",
      "2                          Собаке - собачья смерть\\n   \n",
      "3  Страницу обнови, дебил. Это тоже не оскорблени...   \n",
      "4  тебя не убедил 6-страничный пдф в том, что Скр...   \n",
      "\n",
      "                                      processed_text  \n",
      "0                               верблюдов-т дебил бл  \n",
      "1  хохл эт отдушин затюкан россиянин мол вон хохл...  \n",
      "2                                  собак собач смерт  \n",
      "3  страниц обнов деб эт оскорблен доказа факт не-...  \n",
      "4  убед пдф скрипал отрав росс анализирова дума п...  \n",
      "Размерность BoW: (14412, 31779)\n"
     ]
    }
   ],
   "source": [
    "import pandas as pd\n",
    "from sklearn.feature_extraction.text import CountVectorizer\n",
    "from nltk.stem.snowball import SnowballStemmer\n",
    "from nltk.tokenize import word_tokenize\n",
    "from nltk.corpus import stopwords\n",
    "import nltk\n",
    "import re\n",
    "\n",
    "# Загрузка nltk \n",
    "nltk.download('punkt')\n",
    "nltk.download('stopwords')\n",
    "\n",
    "# Указание пути к файлу\n",
    "filepath = r\"C:\\Users\\Roadmarshal\\Downloads\\labeled.csv\"  \n",
    "\n",
    "try:\n",
    "    data = pd.read_csv(filepath, encoding='utf-8')  # Чтение файла\n",
    "except Exception as e:\n",
    "    print(f\"Произошла ошибка при чтении файла: {e}\")\n",
    "\n",
    "# Инициализация stemmer и загрузка \"стоп-слов\"\n",
    "stemmer = SnowballStemmer(\"russian\")\n",
    "russian_stopwords = stopwords.words(\"russian\")\n",
    "\n",
    "# Функция для стемминга текста с фильтрацией стоп-слов и небуквенных символов\n",
    "def process_text(text):\n",
    "    words = word_tokenize(text)\n",
    "    stemmed_words = [stemmer.stem(word) for word in words if word not in russian_stopwords and re.match('[а-яА-ЯёЁ]+', word)]\n",
    "    return \" \".join(stemmed_words)\n",
    "\n",
    "# Проверка наличия данных и их предварительная обработка\n",
    "if 'data' in locals():\n",
    "    # Применение обработки к столбцу с комментариями\n",
    "    data['processed_text'] = data['comment'].apply(process_text)\n",
    "    \n",
    "    # Вывод обработанных данных для проверки\n",
    "    print(data[['comment', 'processed_text']].head())\n",
    "\n",
    "    # Создание BoW представления обработанных данных\n",
    "    vectorizer = CountVectorizer()\n",
    "    X = vectorizer.fit_transform(data['processed_text'])\n",
    "    \n",
    "    # Печать размерности BoW\n",
    "    print(\"Размерность BoW:\", X.shape)"
   ]
  },
  {
   "cell_type": "code",
   "execution_count": null,
   "id": "fa623803-cf72-43d6-b42d-200fb007a112",
   "metadata": {},
   "outputs": [],
   "source": []
  }
 ],
 "metadata": {
  "kernelspec": {
   "display_name": "Python 3 (ipykernel)",
   "language": "python",
   "name": "python3"
  },
  "language_info": {
   "codemirror_mode": {
    "name": "ipython",
    "version": 3
   },
   "file_extension": ".py",
   "mimetype": "text/x-python",
   "name": "python",
   "nbconvert_exporter": "python",
   "pygments_lexer": "ipython3",
   "version": "3.11.5"
  }
 },
 "nbformat": 4,
 "nbformat_minor": 5
}
