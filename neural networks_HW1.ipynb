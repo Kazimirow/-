# Task 1: Найти корни квадратного уравнения методом градиентного спуска
def loss_function(x):
    return (x ** 2 - 5 * x + 4) ** 2

def derivative(x):
    return 2 * (x ** 2 - 5 * x + 4) * (2 * x - 5)

def gradient_descent(starting_point, lr, epochs):
    x = starting_point
    for _ in range(epochs):
        grad = derivative(x)
        x = x - lr * grad
        if abs(grad) < 1e-6:  # условие достаточно маленького градиента для остановки
            break
    return x

# Начальные параметры для поиска первого корня
starting_point1 = 0
lr = 0.01
epochs = 1000

root1 = gradient_descent(starting_point1, lr, epochs)

# Начальные параметры для поиска второго корня
starting_point2 = 6  # Выбрана другая начальная точка для поиска второго корня

root2 = gradient_descent(starting_point2, lr, epochs)

# Вывод результатов
print(f"Найденные корни: {round(root1, 2)} ({root1}) и {round(root2, 2)} ({root2})")

